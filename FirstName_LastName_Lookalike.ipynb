{
 "cells": [
  {
   "cell_type": "code",
   "execution_count": 3,
   "id": "2b22647f-c96b-45b8-842c-4d38192bcdf7",
   "metadata": {},
   "outputs": [
    {
     "name": "stdout",
     "output_type": "stream",
     "text": [
      "Lookalike model has been created and saved to Lookalike.csv.\n"
     ]
    }
   ],
   "source": [
    "# Import necessary libraries\n",
    "import pandas as pd\n",
    "import numpy as np\n",
    "from sklearn.preprocessing import StandardScaler\n",
    "from sklearn.metrics.pairwise import cosine_similarity\n",
    "from sklearn.model_selection import train_test_split\n",
    "\n",
    "# Load the customer data (Customers.csv), transactions data (Transactions.csv), and product data (Products.csv)\n",
    "customers_df = pd.read_csv('Customers.csv')\n",
    "transactions_df = pd.read_csv('Transactions.csv')\n",
    "products_df = pd.read_csv('Products.csv')\n",
    "\n",
    "# Step 1: Preprocess the transaction data to merge customer and product information\n",
    "\n",
    "# Merge Transactions with Products to get product information in each transaction\n",
    "merged_data = pd.merge(transactions_df, products_df, on=\"ProductID\", how=\"left\")\n",
    "\n",
    "# Step 2: Aggregate the transaction data by CustomerID and ProductID\n",
    "customer_product_data = merged_data.groupby(['CustomerID', 'ProductID']).agg(\n",
    "    quantity=('Quantity', 'sum'),\n",
    "    total_spent=('TotalValue', 'sum')\n",
    ").reset_index()\n",
    "\n",
    "# Step 3: Create a pivot table where rows are customers, columns are products, and values are total spent on that product\n",
    "pivot_data = customer_product_data.pivot_table(index='CustomerID', columns='ProductID', values='total_spent', fill_value=0)\n",
    "\n",
    "# Step 4: Standardize the data for similarity calculation\n",
    "scaler = StandardScaler()\n",
    "scaled_data = scaler.fit_transform(pivot_data)\n",
    "\n",
    "# Step 5: Compute Cosine Similarity between customers\n",
    "similarity_matrix = cosine_similarity(scaled_data)\n",
    "\n",
    "# Step 6: Create a function to find the top 3 similar customers for each customer\n",
    "def get_top_3_similar_customers(customer_id, similarity_matrix, pivot_data):\n",
    "    customer_index = pivot_data.index.get_loc(customer_id)  # Find the index of the customer\n",
    "    similarity_scores = similarity_matrix[customer_index]  # Get similarity scores for the customer\n",
    "    \n",
    "    # Create a list of (CustomerID, SimilarityScore) pairs\n",
    "    similar_customers = [(pivot_data.index[i], similarity_scores[i]) for i in range(len(similarity_scores)) if i != customer_index]\n",
    "    \n",
    "    # Sort by similarity score in descending order and get the top 3\n",
    "    similar_customers = sorted(similar_customers, key=lambda x: x[1], reverse=True)[:3]\n",
    "    \n",
    "    return similar_customers\n",
    "\n",
    "# Step 7: Generate the Lookalike Model for the first 20 customers\n",
    "lookalike_map = {}\n",
    "\n",
    "for customer_id in customers_df['CustomerID'][:20]:  # Limit to first 20 customers\n",
    "    similar_customers = get_top_3_similar_customers(customer_id, similarity_matrix, pivot_data)\n",
    "    lookalike_map[customer_id] = similar_customers\n",
    "\n",
    "# Step 8: Prepare the data for saving to CSV\n",
    "# Flatten the lookalike map into a list of rows\n",
    "flattened_data = []\n",
    "\n",
    "for customer_id, similar_customers in lookalike_map.items():\n",
    "    row = [customer_id]\n",
    "    for similar_customer, similarity_score in similar_customers:\n",
    "        row.append(similar_customer)\n",
    "        row.append(similarity_score)\n",
    "    flattened_data.append(row)\n",
    "\n",
    "# Define the column names dynamically\n",
    "columns = ['CustomerID', 'Lookalike_1', 'Similarity_1', 'Lookalike_2', 'Similarity_2', 'Lookalike_3', 'Similarity_3']\n",
    "\n",
    "# Convert the flattened data into a DataFrame\n",
    "lookalike_df = pd.DataFrame(flattened_data, columns=columns)\n",
    "\n",
    "# Step 9: Save the lookalike model to a CSV file\n",
    "lookalike_df.to_csv('FirstName_LastName_Lookalike.csv', index=False)\n",
    "\n",
    "print(\"Lookalike model has been created and saved to Lookalike.csv.\")"
   ]
  },
  {
   "cell_type": "code",
   "execution_count": null,
   "id": "b535e72e-2147-41d3-92f9-813410ee7ebc",
   "metadata": {},
   "outputs": [],
   "source": []
  }
 ],
 "metadata": {
  "kernelspec": {
   "display_name": "Python 3 (ipykernel)",
   "language": "python",
   "name": "python3"
  },
  "language_info": {
   "codemirror_mode": {
    "name": "ipython",
    "version": 3
   },
   "file_extension": ".py",
   "mimetype": "text/x-python",
   "name": "python",
   "nbconvert_exporter": "python",
   "pygments_lexer": "ipython3",
   "version": "3.11.7"
  }
 },
 "nbformat": 4,
 "nbformat_minor": 5
}
